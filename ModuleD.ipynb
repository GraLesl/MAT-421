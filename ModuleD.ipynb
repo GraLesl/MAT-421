{
  "nbformat": 4,
  "nbformat_minor": 0,
  "metadata": {
    "colab": {
      "provenance": [],
      "authorship_tag": "ABX9TyOht0Aol5p+HfwogCkaawL9",
      "include_colab_link": true
    },
    "kernelspec": {
      "name": "python3",
      "display_name": "Python 3"
    },
    "language_info": {
      "name": "python"
    }
  },
  "cells": [
    {
      "cell_type": "markdown",
      "metadata": {
        "id": "view-in-github",
        "colab_type": "text"
      },
      "source": [
        "<a href=\"https://colab.research.google.com/github/GraLesl/MAT-421/blob/main/ModuleD.ipynb\" target=\"_parent\"><img src=\"https://colab.research.google.com/assets/colab-badge.svg\" alt=\"Open In Colab\"/></a>"
      ]
    },
    {
      "cell_type": "code",
      "source": [
        "import numpy as np"
      ],
      "metadata": {
        "id": "chh8xYwtjM3c"
      },
      "execution_count": 3,
      "outputs": []
    },
    {
      "cell_type": "markdown",
      "source": [
        "# Concepts to Cover\n",
        "- Show how vectors are combined (Linear Combination)\n",
        "- What is linear independence and dimensions\n",
        "- Orthogonality\n",
        "- Eigenvalues\n",
        "\n",
        "Lienar Regression\n",
        "\n"
      ],
      "metadata": {
        "id": "7vpeadlIVCv4"
      }
    },
    {
      "cell_type": "markdown",
      "source": [
        "# Linear Space\n",
        "\n",
        "## Linear Combinations\n",
        "\n",
        "Linear combinations are vectors made from the scalar multiplication and additiona of individual vectors. A linear subspace is defined as a set of linear combinations.\n",
        "\n"
      ],
      "metadata": {
        "id": "yDDtp7Q3UtJz"
      }
    },
    {
      "cell_type": "code",
      "source": [
        "v1 = np.array([1,4,7])\n",
        "v2 = np.array([5,2,-3])\n",
        "a = 2\n",
        "b = 4\n",
        "v3 = a*v1 + b*v2\n",
        "\n",
        "ans = np.array([22,16,2])\n",
        "print(v3==ans)\n"
      ],
      "metadata": {
        "colab": {
          "base_uri": "https://localhost:8080/"
        },
        "id": "rM7BSmqujRdB",
        "outputId": "be7ccfab-a44a-48f2-de3a-2a16ecc605b2"
      },
      "execution_count": null,
      "outputs": [
        {
          "output_type": "stream",
          "name": "stdout",
          "text": [
            "[ True  True  True]\n"
          ]
        }
      ]
    },
    {
      "cell_type": "markdown",
      "source": [
        "## Linear Independence\n",
        "\n",
        "One important idea with vecotrs may be how can we create the smallest set of vectors such that all vectors in a given amount of dimensions. This requires a set of vectors to be **linear independent**, which means none can be written as the combination of any others. A set of linearly independent vecotors which can represent a full vector space is called a **Basis**.\n",
        "\n",
        "## Orthogonality\n",
        "One common way to inspect if vectors are independent of eachother is if they are **orthogonal**. Orthogonality, put simply, means that two vectors are perpendicular to eachother and as such, one vector is unable to be written as a combination of the other. This property can be determined through the dot product of two vectors, if their dot product is zero, they are orthogonal."
      ],
      "metadata": {
        "id": "KVw2jm7wjxvq"
      }
    },
    {
      "cell_type": "code",
      "source": [
        "v1 = np.array([0,1])\n",
        "v2 = np.array([1,0])\n",
        "ans = str(np.dot(v1,v2) == 0)\n",
        "\n",
        "print(\"Vectors are orthogonal: \" + ans)\n",
        "\n",
        "v1 = np.array([3,4])\n",
        "v2 = np.array([-8,6])\n",
        "ans = str(np.dot(v1,v2) == 0)\n",
        "\n",
        "print(\"Vectors are orthogonal: \" + ans)"
      ],
      "metadata": {
        "id": "WnxmJFmimQA5",
        "colab": {
          "base_uri": "https://localhost:8080/"
        },
        "outputId": "40729d18-7c2a-4f2e-a754-d3e1e622e656"
      },
      "execution_count": 9,
      "outputs": [
        {
          "output_type": "stream",
          "name": "stdout",
          "text": [
            "Vectors are orthogonal: True\n",
            "Vectors are orthogonal: True\n"
          ]
        }
      ]
    },
    {
      "cell_type": "markdown",
      "source": [
        "## Eigenvalues and Eigenvectors\n",
        "\n",
        "Another critical compoenent of linear algebra is the idea of eigenvaleus and eigenvectors. An eigenvalue $\\lambda$ and an eigenvector $x$ can satisfy this equation for a square matrix $A$: $Ax = \\lambda x$. The eigenvalue is able to replicate the matrix multiplication of an eigenvector of $A$.\n",
        "\n",
        "These values can be solved rather easily in python as shown below."
      ],
      "metadata": {
        "id": "OQltBjguaS8I"
      }
    },
    {
      "cell_type": "code",
      "source": [
        "a = np.array([[2,5,3],\n",
        "             [12,4,-3],\n",
        "             [-2,7,1]])\n",
        "\n",
        "eVal, eVect = np.linalg.eig(a)\n",
        "\n",
        "print(\"Eigenvalues:\")\n",
        "print(eVal)\n",
        "print(\"Eigenvectors:\")\n",
        "print(eVect)"
      ],
      "metadata": {
        "colab": {
          "base_uri": "https://localhost:8080/"
        },
        "id": "qcBEfnOLc1f1",
        "outputId": "8491b442-bfd8-49ed-ce50-d8867cd4c804"
      },
      "execution_count": 15,
      "outputs": [
        {
          "output_type": "stream",
          "name": "stdout",
          "text": [
            "Eigenvalues\n",
            "[11.10889678+0.j         -2.05444839+4.73545689j -2.05444839-4.73545689j]\n",
            "Eigenvectors\n",
            "[[ 0.53884526+0.j         -0.16960958+0.32978836j -0.16960958-0.32978836j]\n",
            " [ 0.73870721+0.j          0.28842133-0.42805775j  0.28842133+0.42805775j]\n",
            " [ 0.40491659+0.j         -0.77204399+0.j         -0.77204399-0.j        ]]\n"
          ]
        }
      ]
    },
    {
      "cell_type": "markdown",
      "source": [
        "## Linear Regression\n",
        "For systems assumed to have linear dependancy on given parameters, it is useful to have methods which model a given data set with a linear fit curve. This Process is called **Linear Regression**.\n",
        "\n",
        "### QR Method\n",
        "The first method to inspect is the QR method, which can find the eigenvalues of a given matrix through a simple process. A matrix $A$, whose eigenvalues are of interest, can be repeatedly decomposed into a $Q$ and $R$ matrix such that $A = QR$. Using the Grahm-Schmidt process, these matricies can be found.\n"
      ],
      "metadata": {
        "id": "QPl7AiMMd5Dc"
      }
    },
    {
      "cell_type": "code",
      "source": [
        "from numpy.linalg import qr\n",
        "\n",
        "x = np.array([[4,2], [7,-1]])\n",
        "\n",
        "Q,R = qr(x)\n",
        "print('QL: ', Q)\n",
        "print('R: ', R)\n",
        "\n",
        "y  = np.dot(Q,R)\n",
        "print('QR:', y)\n",
        "\n",
        "iterations = [1,5,10,20]\n",
        "for i in range(20):\n",
        "  Q,R = qr(x)\n",
        "  x = np.dot(R,Q)\n",
        "  if i+1 in iterations:\n",
        "    print(f'Iteration {i+1}:')\n",
        "    print(x)"
      ],
      "metadata": {
        "colab": {
          "base_uri": "https://localhost:8080/"
        },
        "id": "H17SR9qbiPT0",
        "outputId": "51085bec-8c72-4c29-ded9-c3439e8261b9"
      },
      "execution_count": 17,
      "outputs": [
        {
          "output_type": "stream",
          "name": "stdout",
          "text": [
            "QL:  [[-0.49613894 -0.86824314]\n",
            " [-0.86824314  0.49613894]]\n",
            "R:  [[-8.06225775 -0.12403473]\n",
            " [ 0.         -2.23262522]]\n",
            "QR: [[ 4.  2.]\n",
            " [ 7. -1.]]\n",
            "Iteration 1:\n",
            "[[ 4.10769231  6.93846154]\n",
            " [ 1.93846154 -1.10769231]]\n",
            "Iteration 5:\n",
            "[[ 5.89715037  5.17676458]\n",
            " [ 0.17676458 -2.89715037]]\n",
            "Iteration 10:\n",
            "[[ 6.00313650e+00 -4.99434595e+00]\n",
            " [ 5.65405265e-03 -3.00313650e+00]]\n",
            "Iteration 20:\n",
            "[[ 6.00000307e+00 -4.99999448e+00]\n",
            " [ 5.51769087e-06 -3.00000307e+00]]\n"
          ]
        }
      ]
    },
    {
      "cell_type": "markdown",
      "source": [
        "## Least Squares Method\n",
        "\n",
        "Another approach is the least squares method. Based on the reduction of a given system of equations to the form $\\hat{Y} = A β$ where Y is a colum vector with $\\hat{Y}_i = \\hat{y}(x_i)$, $β = α_i,F_i(x)$ and $A$ be an $ m $ by $ n$ matrix such atht the i-th column of $A$ is $F_i(x)$.\n",
        "\n",
        "To get as close as possible, we want a vector $Y - \\hat{Y}$ that is perpendicular to the vector $\\hat{Y}$. The final solution to this is $β = (A^TA)^{-1}A^TY$\n",
        "\n",
        "With this forumla for β, a linear regression can be performed for an example data set below.\n"
      ],
      "metadata": {
        "id": "24n81mZFkp8k"
      }
    },
    {
      "cell_type": "code",
      "source": [
        "from scipy import optimize\n",
        "import matplotlib.pyplot as plt\n",
        "\n",
        "x = np.linspace(0,1,101)\n",
        "y = 1 + x + x * np.random.random(len(x))\n",
        "\n",
        "A = np.vstack([x, np.ones(len(x))]).T\n",
        "y = y[:,np.newaxis]\n",
        "\n",
        "alpha = np.dot((np.dot(np.linalg.inv(np.dot(A.T,A)),A.T)),y)\n",
        "print(alpha)\n",
        "\n",
        "plt.figure(figsize = (10,8))\n",
        "plt.plot(x,y,'b.')\n",
        "plt.plot(x, alpha[0]*x + alpha[1], 'r')\n",
        "plt.xlabel('x')\n",
        "plt.ylabel('y')\n",
        "plt.show()"
      ],
      "metadata": {
        "colab": {
          "base_uri": "https://localhost:8080/",
          "height": 563
        },
        "id": "6L6QSL_fnWNJ",
        "outputId": "e54790f3-58ca-4356-89e5-8c5dae7abf2f"
      },
      "execution_count": 19,
      "outputs": [
        {
          "output_type": "stream",
          "name": "stdout",
          "text": [
            "[[1.58990348]\n",
            " [0.97570683]]\n"
          ]
        },
        {
          "output_type": "display_data",
          "data": {
            "text/plain": [
              "<Figure size 1000x800 with 1 Axes>"
            ],
            "image/png": "[encoded data removed]"
          },
          "metadata": {}
        }
      ]
    }
  ]
}