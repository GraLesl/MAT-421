{
  "nbformat": 4,
  "nbformat_minor": 0,
  "metadata": {
    "colab": {
      "provenance": [],
      "authorship_tag": "ABX9TyPqV+9cTFZiKHqjAy/Y7yb0",
      "include_colab_link": true
    },
    "kernelspec": {
      "name": "python3",
      "display_name": "Python 3"
    },
    "language_info": {
      "name": "python"
    }
  },
  "cells": [
    {
      "cell_type": "markdown",
      "metadata": {
        "id": "view-in-github",
        "colab_type": "text"
      },
      "source": [
        "<a href=\"https://colab.research.google.com/github/GraLesl/MAT-421/blob/main/ModuleG_2.ipynb\" target=\"_parent\"><img src=\"https://colab.research.google.com/assets/colab-badge.svg\" alt=\"Open In Colab\"/></a>"
      ]
    },
    {
      "cell_type": "markdown",
      "source": [
        "## Simpsons Rule\n",
        "\n",
        "Furthering the previous techniques of Reimann's Integral and the trapezoidal approach, Simpsons rule uses quadratic fit over two subintervals to aproximate a given funciton.\n",
        "\n",
        "By using a lagrange polynomial we get the polynomial:\n",
        "\n",
        "$P_i(x) = f(x_{i-1}) \\frac{(x-x_i)(x-x_{i+1})}{(x_{i-1}-x_i)(x_{i-1}-x_{i+1})} + f(x_i) \\frac{(x-x_{i-1})(x-x_{i+1})}{(x_{i}-x_{i-1})(x_{i}-x_{i+1})} + f(x_{i+1}) \\frac{(x-x_{i-1})(x-x_{i})}{(x_{i+1}-x_{i-1})(x_{i+1}-x_{i})} $\n",
        "\n",
        "To then approximate this polynomial over the whole integral $(a,b)$ , we sum the integrals of $P_i(x)$ over every two subintervals. Of note, this requires an even number of intervals, or an odd number of grid points.\n",
        "\n",
        "To determine the accuracy of this method, the Taylor series approximation of $f(x)$ around $x_i$. After much simplification, a final result of the integral across $f(x)$ is:\n",
        "\n",
        "$\\frac{h}{3} (f(x_{i-1}) + 4f(x_i) +f(x_{i+1})) + O(h^5)$\n",
        "\n",
        "From this, the accuracy of Simposn's Rule is $O(h^4)$ over the whole interval."
      ],
      "metadata": {
        "id": "dLkHydsd2MA1"
      }
    },
    {
      "cell_type": "code",
      "execution_count": 3,
      "metadata": {
        "colab": {
          "base_uri": "https://localhost:8080/"
        },
        "id": "HFtjymqZ01ds",
        "outputId": "8073e56c-3659-470f-8728-804559a6ddc9"
      },
      "outputs": [
        {
          "output_type": "stream",
          "name": "stdout",
          "text": [
            "Reimann's Integral Left\n",
            "1.9998355038874436\n",
            "0.0001644961125564226\n",
            "Reimann's Integral Right\n",
            "1.9998355038874436\n",
            "0.0001644961125564226\n",
            "Reimann's Integral Midpoint\n",
            "2.0000822490709864\n",
            "-8.224907098641765e-05\n",
            "Trapezoid Rule\n",
            "1.999835503887443\n",
            "0.00016449611255708874\n",
            "Simpsons Rule\n",
            "2.000000010824504\n",
            "-1.0824503959838694e-08\n"
          ]
        }
      ],
      "source": [
        "import numpy as np\n",
        "\n",
        "a = 0\n",
        "b = np.pi\n",
        "n = 11\n",
        "h = (b - a) / (n - 1)\n",
        "x = np.linspace(a,b,n)\n",
        "f = np.sin(x)\n",
        "\n",
        "I_rL = h * sum(f[:n-1])\n",
        "err_rL = 2 - I_rL\n",
        "\n",
        "I_rR = h * sum(f[1::])\n",
        "err_rR = 2 - I_rR\n",
        "\n",
        "# Notice the Midpoint method requres the analytical function and does not work on discrete data points\n",
        "I_mid = h * sum(np.sin((x[:n-1] + x[1:])/2))\n",
        "err_mid = 2 - I_mid\n",
        "\n",
        "I_trap = (h/2)* (f[0] + 2* sum(f[1:n-1] - f[n-1]))\n",
        "err_trap = 2 - I_trap\n",
        "\n",
        "I_simp = (h/3) * (f[0] + 2*sum(f[:n-2:2]) + 4*sum(f[1:n-1:2]) + f[n-1])\n",
        "err_simp = 2 - I_simp\n",
        "\n",
        "print(\"Reimann's Integral Left\")\n",
        "print(I_rL)\n",
        "print(err_rL)\n",
        "\n",
        "print(\"Reimann's Integral Right\")\n",
        "print(I_rR)\n",
        "print(err_rR)\n",
        "\n",
        "print(\"Reimann's Integral Midpoint\")\n",
        "print(I_mid)\n",
        "print(err_mid)\n",
        "\n",
        "print(\"Trapezoid Rule\")\n",
        "print(I_trap)\n",
        "print(err_trap)\n",
        "\n",
        "print(\"Simpsons Rule\")\n",
        "print(I_simp)\n",
        "print(err_simp)"
      ]
    }
  ]
}