{
  "nbformat": 4,
  "nbformat_minor": 0,
  "metadata": {
    "colab": {
      "provenance": [],
      "authorship_tag": "ABX9TyM3fMuRJvwFGFoNo868fLuA",
      "include_colab_link": true
    },
    "kernelspec": {
      "name": "python3",
      "display_name": "Python 3"
    },
    "language_info": {
      "name": "python"
    }
  },
  "cells": [
    {
      "cell_type": "markdown",
      "metadata": {
        "id": "view-in-github",
        "colab_type": "text"
      },
      "source": [
        "<a href=\"https://colab.research.google.com/github/GraLesl/MAT-421/blob/main/ModuleG_1.ipynb\" target=\"_parent\"><img src=\"https://colab.research.google.com/assets/colab-badge.svg\" alt=\"Open In Colab\"/></a>"
      ]
    },
    {
      "cell_type": "markdown",
      "source": [
        "## Numerical Integration Problem Statement\n",
        "\n",
        "In many fields of engineering, it is instrumental to approximate the integral of a given function over a set range. As such, we often discretize the range into a numerical grid $x$ consisting of $n+1$ points. It is important that $f(x)$ can be computed at each point in the grid $x$.\n",
        "\n",
        "### Reimann's Integral\n",
        "\n",
        "One approach is to take each point along $x$ and multiply its $f(x)$ output by the width of each subinterval. This can be done at any location along the subinterval, however it is typically done at either the leftmost, rightmost, or center points. The fidelity of this approach changes based on how many discretized points encompass the range of $f(x)$ ( Error is $O(h)$). Notably, when the talyor series is used at the midpoint, the process is $O(h^3)$ over one subinterval and therefore $O(h^2)$ over the whole range. While this method uses the same amount of computations, it does require the analitical function itself, and cannot be performed on ambiguous points.\n",
        "\n",
        "### Trapezoidal Method\n",
        "\n",
        "Another approach is to connect each discrete point by a line to approximate the movement of the plot. This then turns every subinterval from a rectangale to a trapezoid. By taking the Taylor series expansion of $f(x)$ around $y_i = \\frac{x_{i+1}+x_i}{2}$, the final product for each subinterval simplifies down to.\n",
        "\n",
        "$ \\int_{x_i}^{x_{i+1}} f(x) \\,dx = h(\\frac{f(x_{i+1}) + f(x_i)}{2}) + O(h^3)$"
      ],
      "metadata": {
        "id": "UzqGP-Seg8jG"
      }
    },
    {
      "cell_type": "code",
      "execution_count": 2,
      "metadata": {
        "colab": {
          "base_uri": "https://localhost:8080/"
        },
        "id": "34sjce62f3QF",
        "outputId": "da57a2d4-fd2e-4bab-9799-43c56ec7434a"
      },
      "outputs": [
        {
          "output_type": "stream",
          "name": "stdout",
          "text": [
            "Reimann's Integral Left\n",
            "1.9835235375094546\n",
            "0.01647646249054535\n",
            "Reimann's Integral Right\n",
            "1.9835235375094546\n",
            "0.01647646249054535\n",
            "Reimann's Integral Midpoint\n",
            "2.0082484079079745\n",
            "-0.008248407907974542\n",
            "Trapezoid Rule\n",
            "1.9835235375094544\n",
            "0.016476462490545574\n"
          ]
        }
      ],
      "source": [
        "import numpy as np\n",
        "\n",
        "a = 0\n",
        "b = np.pi\n",
        "n = 11\n",
        "h = (b - a) / (n - 1)\n",
        "x = np.linspace(a,b,n)\n",
        "f = np.sin(x)\n",
        "\n",
        "I_rL = h * sum(f[:n-1])\n",
        "err_rL = 2 - I_rL\n",
        "\n",
        "I_rR = h * sum(f[1::])\n",
        "err_rR = 2 - I_rR\n",
        "\n",
        "# Notice the Midpoint method requres the analytical function and does not work on discrete data points\n",
        "I_mid = h * sum(np.sin((x[:n-1] + x[1:])/2))\n",
        "err_mid = 2 - I_mid\n",
        "\n",
        "I_trap = (h/2)* (f[0] + 2* sum(f[1:n-1] - f[n-1]))\n",
        "err_trap = 2 - I_trap\n",
        "\n",
        "print(\"Reimann's Integral Left\")\n",
        "print(I_rL)\n",
        "print(err_rL)\n",
        "\n",
        "print(\"Reimann's Integral Right\")\n",
        "print(I_rR)\n",
        "print(err_rR)\n",
        "\n",
        "print(\"Reimann's Integral Midpoint\")\n",
        "print(I_mid)\n",
        "print(err_mid)\n",
        "\n",
        "print(\"Trapezoid Rule\")\n",
        "print(I_trap)\n",
        "print(err_trap)"
      ]
    }
  ]
}