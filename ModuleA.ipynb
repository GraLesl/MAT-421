{
  "nbformat": 4,
  "nbformat_minor": 0,
  "metadata": {
    "colab": {
      "provenance": [],
      "authorship_tag": "ABX9TyNnwmOdpP44mphm9+/dgp1q",
      "include_colab_link": true
    },
    "kernelspec": {
      "name": "python3",
      "display_name": "Python 3"
    },
    "language_info": {
      "name": "python"
    }
  },
  "cells": [
    {
      "cell_type": "markdown",
      "metadata": {
        "id": "view-in-github",
        "colab_type": "text"
      },
      "source": [
        "<a href=\"https://colab.research.google.com/github/GraLesl/MAT-421/blob/main/ModuleA.ipynb\" target=\"_parent\"><img src=\"https://colab.research.google.com/assets/colab-badge.svg\" alt=\"Open In Colab\"/></a>"
      ]
    },
    {
      "cell_type": "markdown",
      "source": [
        "Grant Lesley\n",
        "\n",
        "# **9.1 Base 10 and N Numbers**\n",
        "\n",
        "The most common base of numbers in our day to day life is that of base 10. This means all numbers and nomenclature is built on using the numbers 0-9 to represent each power of 10. Below, the number 126 has been decomposed to show this."
      ],
      "metadata": {
        "id": "Of2ru4EGPd7m"
      }
    },
    {
      "cell_type": "code",
      "execution_count": 1,
      "metadata": {
        "colab": {
          "base_uri": "https://localhost:8080/"
        },
        "id": "nZ_Ls0qSPcTm",
        "outputId": "5b30b42e-c0b8-4340-ab67-c3c627157fa3"
      },
      "outputs": [
        {
          "output_type": "execute_result",
          "data": {
            "text/plain": [
              "True"
            ]
          },
          "metadata": {},
          "execution_count": 1
        }
      ],
      "source": [
        "134 == 1*(10**2) + 3*(10**1) + 4*(10**0)"
      ]
    },
    {
      "cell_type": "markdown",
      "source": [
        "However, 10 is not the only base and any integer can be used as a base. Computers for example use base 2 because each bit can be represented by either a one or a zero. 126 is represented in base 2 below"
      ],
      "metadata": {
        "id": "wTbClvtUQ_RV"
      }
    },
    {
      "cell_type": "code",
      "source": [
        "134 == 1*(2**7) + 0*(2**6) + 0*(2**5) + 0*(2**4) + 0*(2**3) + 1*(2**2) + 1*(2**1) + 0*(2**0)"
      ],
      "metadata": {
        "colab": {
          "base_uri": "https://localhost:8080/"
        },
        "id": "5J6QeGQNRV2C",
        "outputId": "8a6618d8-2230-4ef6-d231-f9f21dd09c5f"
      },
      "execution_count": 3,
      "outputs": [
        {
          "output_type": "execute_result",
          "data": {
            "text/plain": [
              "True"
            ]
          },
          "metadata": {},
          "execution_count": 3
        }
      ]
    },
    {
      "cell_type": "markdown",
      "source": [
        "Hence, 134(base10) is equivilant to 10000110(base2)."
      ],
      "metadata": {
        "id": "S4L6Oz1GSDrR"
      }
    },
    {
      "cell_type": "markdown",
      "source": [
        "# **9.2 Floating Point Numbers**\n",
        "\n",
        "Whilst the system of representing numbers as purely a summation of all the powers of its base is useful, it lacks the ability to represent fractions. Therefore a slightly different system is used to represent these numbers more precisiley in base 2.\n",
        "\n",
        "N = (-1^S) 2^(e-1023) (1 + f)\n",
        "\n",
        "In this system, one bit (S) is used to define the sign, 11 bits (e) are used to define the exponent, and 52 bits (f) are used to define the fraction. As such, this system uses 64 bits to represent each number (IEEE754). Limits for this system can be seen below."
      ],
      "metadata": {
        "id": "EOZDRIaFSmIC"
      }
    },
    {
      "cell_type": "code",
      "source": [
        "import sys\n",
        "sys.float_info"
      ],
      "metadata": {
        "colab": {
          "base_uri": "https://localhost:8080/"
        },
        "id": "OpIHz4dNXRYD",
        "outputId": "45f1db7f-56a9-4feb-f470-743c6645ed2e"
      },
      "execution_count": 11,
      "outputs": [
        {
          "output_type": "execute_result",
          "data": {
            "text/plain": [
              "sys.float_info(max=1.7976931348623157e+308, max_exp=1024, max_10_exp=308, min=2.2250738585072014e-308, min_exp=-1021, min_10_exp=-307, dig=15, mant_dig=53, epsilon=2.220446049250313e-16, radix=2, rounds=1)"
            ]
          },
          "metadata": {},
          "execution_count": 11
        }
      ]
    },
    {
      "cell_type": "markdown",
      "source": [
        "One quirk of this system is the development of a gap between numbers which grows with the number itself."
      ],
      "metadata": {
        "id": "iqAUvD9BXZY8"
      }
    },
    {
      "cell_type": "code",
      "source": [
        "import numpy as np\n",
        "print(np.spacing(1e4))\n",
        "print(np.spacing(1e9))"
      ],
      "metadata": {
        "colab": {
          "base_uri": "https://localhost:8080/"
        },
        "id": "qS3-Z83eX_-i",
        "outputId": "87ca01d8-8eb1-4a72-d4eb-f189b4b5d8f3"
      },
      "execution_count": 14,
      "outputs": [
        {
          "output_type": "stream",
          "name": "stdout",
          "text": [
            "1.1920928955078125e-07\n",
            "1.8189894035458565e-12\n"
          ]
        }
      ]
    },
    {
      "cell_type": "markdown",
      "source": [
        "As the number in question increases, so to does the spacing between each discrete value.\n",
        "\n",
        "Additionally, four cases are set asside to represent 0 (e = 00000000000), \"Not a Number\" (e = 11111111111 && f =/= zero), \"inf\" (e = 11111111111 && f =/= zero && s = 0), and \"-inf\" (e = 11111111111 && f =/= zero && s = 1).\n",
        "\n",
        "This system still has a cap to its possible values as shown below, where adding to the float max is seen as equal to the float max alone. And the minimum can be seen through decreasing the exponential until the system views it as effectivley zero."
      ],
      "metadata": {
        "id": "mXNX9U9hYcGS"
      }
    },
    {
      "cell_type": "code",
      "source": [
        "sys.float_info.max + 20 == sys.float_info.max"
      ],
      "metadata": {
        "colab": {
          "base_uri": "https://localhost:8080/"
        },
        "id": "wcNQvgq-dfu_",
        "outputId": "30000722-27e2-4ec9-af93-47e6a0bf5230"
      },
      "execution_count": 20,
      "outputs": [
        {
          "output_type": "execute_result",
          "data": {
            "text/plain": [
              "True"
            ]
          },
          "metadata": {},
          "execution_count": 20
        }
      ]
    },
    {
      "cell_type": "code",
      "source": [
        "print(2**(-1075))\n",
        "print(2**(-1074))"
      ],
      "metadata": {
        "colab": {
          "base_uri": "https://localhost:8080/"
        },
        "id": "UVq_b_nydrFX",
        "outputId": "03c22377-9249-43a1-e27e-78867d7a57a4"
      },
      "execution_count": 19,
      "outputs": [
        {
          "output_type": "stream",
          "name": "stdout",
          "text": [
            "0.0\n",
            "5e-324\n"
          ]
        }
      ]
    },
    {
      "cell_type": "markdown",
      "source": [
        "# **9.3 Round-off Errors**\n",
        "\n",
        "Representing any number in this way has its limits because these are simply approximations to be interpreted by a computer. As such, there are limits, one of which being roundoff errors. An example of this can be seen below."
      ],
      "metadata": {
        "id": "68iWytOneCVI"
      }
    },
    {
      "cell_type": "code",
      "source": [
        "0.95 - 0.835 == 0.115"
      ],
      "metadata": {
        "colab": {
          "base_uri": "https://localhost:8080/"
        },
        "id": "dtvW_pw4eu0p",
        "outputId": "447bd13d-944b-4777-fe5f-f69f8c29f99c"
      },
      "execution_count": 22,
      "outputs": [
        {
          "output_type": "execute_result",
          "data": {
            "text/plain": [
              "False"
            ]
          },
          "metadata": {},
          "execution_count": 22
        }
      ]
    },
    {
      "cell_type": "markdown",
      "source": [
        "Doing simple math, the above should clearly be true. However, if we look at the true value of the left side, there is a slight deviation due to approximation."
      ],
      "metadata": {
        "id": "MWQJJlXke2kR"
      }
    },
    {
      "cell_type": "code",
      "source": [
        "print(0.95 - 0.835)"
      ],
      "metadata": {
        "colab": {
          "base_uri": "https://localhost:8080/"
        },
        "id": "ybAo1VFSfJa8",
        "outputId": "281889cd-89fa-40f5-8a7f-ad75d770c4cf"
      },
      "execution_count": 35,
      "outputs": [
        {
          "output_type": "stream",
          "name": "stdout",
          "text": [
            "0.11499999999999999\n"
          ]
        }
      ]
    },
    {
      "cell_type": "markdown",
      "source": [
        "All math performed on this value will be effectivley the exact same, however when it comes to exact comparison for the == symbol, it will be categorized as false.\n",
        "\n",
        "However, this issue can become more consequential due to its compounding ability. For example, if we take 1 and add 1/3 then subtract 1/3, we still get 1"
      ],
      "metadata": {
        "id": "_5IJ7_-IfOFj"
      }
    },
    {
      "cell_type": "code",
      "source": [
        "1 + 1/3 - 1/3"
      ],
      "metadata": {
        "colab": {
          "base_uri": "https://localhost:8080/"
        },
        "id": "dEogopdvg-9F",
        "outputId": "be81088f-acf6-44f9-b530-1da9024c5e32"
      },
      "execution_count": 31,
      "outputs": [
        {
          "output_type": "execute_result",
          "data": {
            "text/plain": [
              "1.0"
            ]
          },
          "metadata": {},
          "execution_count": 31
        }
      ]
    },
    {
      "cell_type": "markdown",
      "source": [
        "But, if instead 1/3 is added a vast amount of times and then subtracted the same vast amount of times, it does not remain the same."
      ],
      "metadata": {
        "id": "cldGpPgJhC82"
      }
    },
    {
      "cell_type": "code",
      "source": [
        "def add_and_subtract(iterations):\n",
        "  result = 1\n",
        "  for i in range(iterations):\n",
        "    result += 1/3\n",
        "  for i in range(iterations):\n",
        "    result -= 1/3\n",
        "  return result\n",
        "\n",
        "print(add_and_subtract(100))\n",
        "\n",
        "print(add_and_subtract(10000))"
      ],
      "metadata": {
        "colab": {
          "base_uri": "https://localhost:8080/"
        },
        "id": "ALwNivyrhpDC",
        "outputId": "d4e19b13-6d8c-4fd3-e297-040c45a301bb"
      },
      "execution_count": 36,
      "outputs": [
        {
          "output_type": "stream",
          "name": "stdout",
          "text": [
            "1.0000000000000002\n",
            "1.0000000000001166\n"
          ]
        }
      ]
    }
  ]
}